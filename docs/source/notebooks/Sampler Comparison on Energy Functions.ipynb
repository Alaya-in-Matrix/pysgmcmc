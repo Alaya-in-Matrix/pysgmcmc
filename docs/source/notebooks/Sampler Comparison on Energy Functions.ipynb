{
 "cells": [
  {
   "cell_type": "code",
   "execution_count": 39,
   "metadata": {},
   "outputs": [
    {
     "name": "stdout",
     "output_type": "stream",
     "text": [
      "The autoreload extension is already loaded. To reload it, use:\n",
      "  %reload_ext autoreload\n"
     ]
    },
    {
     "data": {
      "image/png": "[encoded data removed]",
      "text/plain": [
       "<matplotlib.figure.Figure at 0x7fa6dd766fd0>"
      ]
     },
     "metadata": {},
     "output_type": "display_data"
    }
   ],
   "source": [
    "%matplotlib inline\n",
    "%load_ext autoreload\n",
    "%autoreload 2\n",
    "import sys\n",
    "import os\n",
    "sys.path.insert(0, os.path.abspath(os.path.join(\"..\", \"..\", \"..\")))\n",
    "import numpy as np\n",
    "from itertools import islice\n",
    "import matplotlib.pyplot as plt\n",
    "from keras import backend as K\n",
    "\n",
    "from pysgmcmc.samplers.sghmc import SGHMCSampler\n",
    "from pysgmcmc.samplers.relativistic_sghmc import RelativisticSGHMCSampler\n",
    "from pysgmcmc.samplers.sgld import SGLDSampler\n",
    "\n",
    "from pysgmcmc.samplers.energy_functions import (\n",
    "    banana_log_likelihood, gmm1_log_likelihood, gmm2_log_likelihood, gmm3_log_likelihood,\n",
    "    to_negative_log_likelihood\n",
    ")\n",
    "\n",
    "\n",
    "ENERGY_FUNCTIONS = {\n",
    "    \"banana\": (\n",
    "        banana_log_likelihood,\n",
    "        lambda: [K.random_normal_variable(shape=(1,), mean=0., scale=1.,), K.random_normal_variable(shape=(1,), mean=0., scale=1.,)],\n",
    "        lambda samples: plt.hist2d(samples[:, 0], samples[:, 1]),\n",
    "        None\n",
    "    ),\n",
    "    \"gmm1\": (\n",
    "        gmm1_log_likelihood,\n",
    "        lambda: [K.variable(K.random_normal((1,)))],\n",
    "        plt.hist,\n",
    "        None\n",
    "    )\n",
    "}\n",
    "\n",
    "SAMPLERS = (\n",
    "    SGHMCSampler, RelativisticSGHMCSampler, SGLDSampler\n",
    ")\n",
    "\n",
    "\n",
    "def sample(sampler, n_samples=10**5, burn_in_steps=0, keep_every=1):\n",
    "    _ = list(islice(sampler, burn_in_steps))\n",
    "    return np.asarray([sample for _, sample in islice(sampler, keep_every, n_samples * keep_every + keep_every)])\n",
    "\n",
    "\n",
    "energy_function, initial_guess, plot_samples, plot_function = ENERGY_FUNCTIONS[\"banana\"]\n",
    "\n",
    "for sampler in SAMPLERS[:1]:\n",
    "    initial_sample = initial_guess()\n",
    "    loss = to_negative_log_likelihood(energy_function)(initial_sample)\n",
    "    samples = np.squeeze(sample(sampler(loss=loss, params=initial_sample, lr=0.01, burn_in_steps=3000)))\n",
    "    plot_samples(samples)\n",
    "    plt.show()"
   ]
  },
  {
   "cell_type": "code",
   "execution_count": null,
   "metadata": {
    "collapsed": true
   },
   "outputs": [],
   "source": []
  }
 ],
 "metadata": {
  "kernelspec": {
   "display_name": "Python 3",
   "language": "python",
   "name": "python3"
  },
  "language_info": {
   "codemirror_mode": {
    "name": "ipython",
    "version": 3
   },
   "file_extension": ".py",
   "mimetype": "text/x-python",
   "name": "python",
   "nbconvert_exporter": "python",
   "pygments_lexer": "ipython3",
   "version": "3.5.2"
  }
 },
 "nbformat": 4,
 "nbformat_minor": 2
}

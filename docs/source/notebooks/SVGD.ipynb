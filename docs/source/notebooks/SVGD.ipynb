{
 "cells": [
  {
   "cell_type": "markdown",
   "metadata": {},
   "source": [
    "## Stein Variational Gradient Descent\n",
    "\n",
    "This notebook showcases how to use Stein Variational Gradient Descent to sample \n",
    "from the Banana function introduced in the paper Relativistic Monte Carlo. \n"
   ]
  },
  {
   "cell_type": "code",
   "execution_count": 1,
   "metadata": {},
   "outputs": [
    {
     "data": {
      "image/png": "[encoded data removed]",
      "text/plain": [
       "<matplotlib.figure.Figure at 0x7fcaaf4a6be0>"
      ]
     },
     "metadata": {},
     "output_type": "display_data"
    }
   ],
   "source": [
    "%matplotlib inline\n",
    "import sys\n",
    "import os\n",
    "sys.path.insert(0, os.path.join(os.path.abspath(\".\"), \"..\", \"..\", \"..\"))\n",
    "\n",
    "import matplotlib.pyplot as plt\n",
    "import tensorflow as tf\n",
    "import numpy as np\n",
    "from pysgmcmc.samplers.svgd import SVGDSampler\n",
    "\n",
    "from pysgmcmc.diagnostics.objective_functions import (\n",
    "    banana_log_likelihood,\n",
    ")\n",
    "\n",
    "from collections import namedtuple\n",
    "\n",
    "ObjectiveFunction = namedtuple(\n",
    "    \"ObjectiveFunction\", [\"function\", \"dimensionality\"]\n",
    ")\n",
    "\n",
    "objective_functions = (\n",
    "    ObjectiveFunction(\n",
    "        function=banana_log_likelihood, dimensionality=2\n",
    "    ),\n",
    ")\n",
    "\n",
    "\n",
    "def cost_function(log_likelihood_function):\n",
    "    def wrapped(*args, **kwargs):\n",
    "        return -log_likelihood_function(*args, **kwargs)\n",
    "    wrapped.__name__ = log_likelihood_function.__name__\n",
    "    return wrapped\n",
    "\n",
    "#  Banana Contour {{{ #\n",
    "def banana_plot():\n",
    "    x = np.arange(-25, 25, 0.05)\n",
    "    y = np.arange(-50, 20, 0.05)\n",
    "    xx, yy = np.meshgrid(x, y, sparse=True)\n",
    "    densities = np.asarray([np.exp(banana_log_likelihood((x, y))) for x in xx for y in yy])\n",
    "    f, ax = plt.subplots(1)\n",
    "    xdata = [1, 4, 8]\n",
    "    ydata = [10, 20, 30]\n",
    "    ax.contour(x, y, densities, 1, label=\"Banana\")\n",
    "    ax.plot([], [], label=\"Banana\")\n",
    "    ax.legend()\n",
    "    ax.grid()\n",
    "    ax.set_ylim(ymin=-60, ymax=20)\n",
    "    ax.set_xlim(xmin=-30, xmax=30)\n",
    "    \n",
    "#  }}} Banana Contour #\n",
    "\n",
    "\n",
    "plot_functions = {\n",
    "    \"banana_log_likelihood\": banana_plot,\n",
    "}\n",
    "\n",
    "\n",
    "def extract_samples(sampler, n_samples=1000, keep_every=10):\n",
    "    from itertools import islice\n",
    "    n_iterations = n_samples * keep_every\n",
    "    return np.asarray(\n",
    "        [np.mean(sample, axis=0) for sample, _ in\n",
    "         islice(sampler, 0, n_iterations, keep_every)]\n",
    "    )\n",
    "\n",
    "def plot_samples(sampler, n_samples=5000, keep_every=10):\n",
    "    samples = extract_samples(\n",
    "        sampler, n_samples=n_samples, keep_every=keep_every\n",
    "    )\n",
    "    plot_functions[sampler.cost_fun.__name__]()\n",
    "    \n",
    "    first_sample = samples[0]\n",
    "    try:\n",
    "        sample_dimensionality, = first_sample.shape\n",
    "    except ValueError:\n",
    "        plt.scatter(samples, np.exp([-sampler.cost_fun(sample) for sample in samples]))\n",
    "    else:\n",
    "        plt.scatter(*[samples[:, i] for i in range(sample_dimensionality)])\n",
    "\n",
    "        \n",
    "n_particles = 10\n",
    "\n",
    "graph = tf.Graph()\n",
    "\n",
    "for function, dimensionality in objective_functions:\n",
    "    tf.reset_default_graph()\n",
    "    graph = tf.Graph()\n",
    "    \n",
    "    with tf.Session(graph=graph) as session:\n",
    "        particles = [\n",
    "            tf.get_variable(\"particle_{}\".format(i), (dimensionality,), initializer=tf.random_normal_initializer())\n",
    "            for i in range(n_particles)\n",
    "        ]\n",
    "        sampler = SVGDSampler(\n",
    "            particles=particles,\n",
    "            cost_fun=cost_function(function),\n",
    "            session=session,\n",
    "            dtype=tf.float32\n",
    "        )\n",
    "        plot_samples(sampler, n_samples=5000)\n",
    "        plt.show()"
   ]
  },
  {
   "cell_type": "code",
   "execution_count": null,
   "metadata": {
    "collapsed": true
   },
   "outputs": [],
   "source": []
  }
 ],
 "metadata": {
  "kernelspec": {
   "display_name": "Python 3",
   "language": "python",
   "name": "python3"
  },
  "language_info": {
   "codemirror_mode": {
    "name": "ipython",
    "version": 3
   },
   "file_extension": ".py",
   "mimetype": "text/x-python",
   "name": "python",
   "nbconvert_exporter": "python",
   "pygments_lexer": "ipython3",
   "version": "3.5.2"
  }
 },
 "nbformat": 4,
 "nbformat_minor": 2
}

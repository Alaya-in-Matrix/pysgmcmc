{
 "cells": [
  {
   "cell_type": "markdown",
   "metadata": {},
   "source": [
    "# Relativistic SGHMC (Banana function)\n",
    "\n",
    "In what follows, we will fit relativistic stochastic gradient hamiltonian monte carlo to a banana cost function reproducing the results \n",
    "from [this notebook](https://github.com/xiaoyulu2014/RelHMC/blob/master/xiaoyu/examples/BananaExample.ipynb) of the original authors.\n",
    "\n"
   ]
  },
  {
   "cell_type": "code",
   "execution_count": 4,
   "metadata": {
    "collapsed": true
   },
   "outputs": [],
   "source": [
    "%matplotlib inline\n",
    "import matplotlib.pyplot as plt\n",
    "import tensorflow as tf\n",
    "import numpy as np\n",
    "import sys\n",
    "import os\n",
    "sys.path.insert(0, os.path.abspath(os.path.join(\"..\", \"..\", \"..\")))\n",
    "\n",
    "from pysgmcmc.samplers.relativistic_sghmc import RelativisticSGHMCSampler\n",
    "from pysgmcmc.diagnostics.objective_functions import banana_log_likelihood  # cost function for sampling"
   ]
  },
  {
   "cell_type": "markdown",
   "metadata": {},
   "source": [
    "## Setting up our toolbox\n",
    "\n",
    "Below we define two functions: one to plot the contours of our cost function and one to produce a final plot \n",
    "with samples drawn from a sampler on top of those contours."
   ]
  },
  {
   "cell_type": "code",
   "execution_count": 5,
   "metadata": {
    "collapsed": true
   },
   "outputs": [],
   "source": [
    "def plot_contour(f, range_x, range_y):\n",
    "    \"\"\"\n",
    "    Produce a contour plot of callable `f` evaluated on a grid\n",
    "    of values with ranges `range_x` and `range_y`.\n",
    "\n",
    "    Parameters\n",
    "    ----------\n",
    "    f : callable\n",
    "        Callable of which we would like to plot the contours.\n",
    "\n",
    "    range_x : tuple\n",
    "        3-tuple (start, stop, step) that will be fed to `numpy.arange`\n",
    "        to produce x-values for a grid.\n",
    "\n",
    "    range_y : tuple\n",
    "        3-tuple (start, stop, step) that will be fed to `numpy.arange`\n",
    "        to produce y-values for a grid.\n",
    "    \"\"\"\n",
    "\n",
    "    x = np.arange(*range_x)\n",
    "    y = np.arange(*range_y)\n",
    "    xx, yy = np.meshgrid(x, y, sparse=True)\n",
    "    densities = np.asarray([np.exp(banana_log_likelihood((x, y))) for x in xx for y in yy])\n",
    "\n",
    "    h = plt.contour(x, y, densities, 1, label=\"Banana\")\n",
    "\n",
    "def run(sampler, n_samples=1000, keep_every=10):\n",
    "    \"\"\"\n",
    "    Produce a plot that plots `n_samples` extracted from `sampler`\n",
    "    on top of the contours of the corresponding cost function.\n",
    "    Keep every `keep_every`th sample only, so a total of\n",
    "    `n_samples * keep_every` iterations of the `sampler` are performed.\n",
    "\n",
    "    Parameters\n",
    "    ----------\n",
    "    sampler : `pysgmcmc.sampling.MCMCSampler` subclass\n",
    "        Sampler object to evaluate.\n",
    "        \n",
    "    n_samples : int, optional\n",
    "        Number of samples to extract from `sampler`.\n",
    "        Defaults to `1000`.\n",
    "\n",
    "    keep_every : int, optional\n",
    "        Keep only every `keep_every`th sample for the final plot.\n",
    "        Defaults to `10`.\n",
    "\n",
    "    \"\"\"\n",
    "    from itertools import islice\n",
    "\n",
    "    n_iterations = n_samples * keep_every\n",
    "    samples = np.asarray([sample for sample, _ in islice(sampler, 0, n_iterations, keep_every)])\n",
    "    \n",
    "    plot_contour(sampler.cost_fun, (-5, 6, 0.05), (-1, 32, 0.05))    \n",
    "    plt.scatter(samples[:,0], samples[:, 1])\n",
    "    plt.show()"
   ]
  },
  {
   "cell_type": "markdown",
   "metadata": {},
   "source": [
    "## Actual Experiment\n",
    "\n",
    "Below we extract 1000 samples from our `RelativisticSGHMCSampler` and plot them \n",
    "over the contours of the banana function. \n"
   ]
  },
  {
   "cell_type": "code",
   "execution_count": 6,
   "metadata": {},
   "outputs": [
    {
     "data": {
      "image/png": "[encoded data removed]",
      "text/plain": [
       "<matplotlib.figure.Figure at 0x7f5cb1b11390>"
      ]
     },
     "metadata": {},
     "output_type": "display_data"
    }
   ],
   "source": [
    "from pysgmcmc.samplers.relativistic_sghmc import RelativisticSGHMCSampler\n",
    "\n",
    "params = [tf.Variable(0., dtype=tf.float32), tf.Variable(0., dtype=tf.float32)]\n",
    "\n",
    "\n",
    "with tf.Session() as session:\n",
    "    s = RelativisticSGHMCSampler(\n",
    "        epsilon=0.01,\n",
    "        params=params, \n",
    "        cost_fun=banana_log_likelihood, \n",
    "        momentum=[-0.49263767497543365,0.6003227124549538], \n",
    "        session=session\n",
    "    )\n",
    "    session.run(tf.global_variables_initializer())\n",
    "    run(s)"
   ]
  }
 ],
 "metadata": {
  "kernelspec": {
   "display_name": "Python 3",
   "language": "python",
   "name": "python3"
  },
  "language_info": {
   "codemirror_mode": {
    "name": "ipython",
    "version": 3
   },
   "file_extension": ".py",
   "mimetype": "text/x-python",
   "name": "python",
   "nbconvert_exporter": "python",
   "pygments_lexer": "ipython3",
   "version": "3.5.2"
  }
 },
 "nbformat": 4,
 "nbformat_minor": 2
}

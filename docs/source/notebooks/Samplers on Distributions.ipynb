{
 "cells": [
  {
   "cell_type": "code",
   "execution_count": 7,
   "metadata": {},
   "outputs": [],
   "source": [
    "%matplotlib inline\n",
    "from os.path import dirname, join as path_join\n",
    "import sys\n",
    "sys.path.insert(0, \"../../../\")\n",
    "sys.path.insert(0, \"/home/moritz/thesis_repos/MCMCVisualizer\")\n",
    "from itertools import islice\n",
    "import numpy as np\n",
    "\n",
    "import torch\n",
    "\n",
    "from pysgmcmc.samplers.sgld import SGLD\n",
    "from mcmc_visualizer.plots.distplot import distplot\n",
    "\n",
    "\n",
    "parameter = torch.rand(1, requires_grad=True)\n",
    "\n",
    "energy_function = torch.distributions.MultivariateNormal(\n",
    "    loc=torch.tensor((-5., 0., 5.)),\n",
    "    covariance_matrix=torch.eye(3)\n",
    ")\n",
    "\n",
    "def negative_log_likelihood(params):\n",
    "    x, = params\n",
    "    return -energy_function.log_prob(x)\n",
    "\n",
    "def to_negative_log_likelihood(log_prob_function):\n",
    "    def wrapped(*args, **kwargs):\n",
    "        return -log_prob_function(*args, **kwargs)\n",
    "    return wrapped\n",
    "\n",
    "sampler = SGLD(\n",
    "    params=(parameter,),\n",
    "    lr=0.1,\n",
    "    negative_log_likelihood=negative_log_likelihood\n",
    ")\n",
    "\n",
    "num_burn_in_steps = 3000\n",
    "num_sample_steps = 100000\n",
    "num_steps = num_burn_in_steps + num_sample_steps\n",
    "\n",
    "sample_chain = islice(sampler, num_burn_in_steps, num_steps)\n",
    "\n",
    "chain = np.reshape([\n",
    "    sample for sample, _ in sample_chain\n",
    "], (1, num_sample_steps, 1))\n",
    "\n"
   ]
  },
  {
   "cell_type": "code",
   "execution_count": 8,
   "metadata": {},
   "outputs": [
    {
     "name": "stderr",
     "output_type": "stream",
     "text": [
      "WARNING:root:No parameter names specified for the given `chains`. Using anonymous names by enumerating all dimensions.\n",
      "WARNING:matplotlib.legend:No handles with labels found to put in legend.\n"
     ]
    },
    {
     "name": "stdout",
     "output_type": "stream",
     "text": [
      "Trace with 1 chains of 100000 steps each for 1 parameters.\n"
     ]
    },
    {
     "data": {
      "image/png": "[encoded data removed]",
      "text/plain": [
       "<matplotlib.figure.Figure at 0x7f42b4de9c18>"
      ]
     },
     "metadata": {},
     "output_type": "display_data"
    }
   ],
   "source": [
    "import matplotlib.pyplot as plt\n",
    "distplot(chain)\n",
    "plt.show()"
   ]
  },
  {
   "cell_type": "code",
   "execution_count": null,
   "metadata": {
    "collapsed": true
   },
   "outputs": [],
   "source": []
  }
 ],
 "metadata": {
  "kernelspec": {
   "display_name": "Python 3",
   "language": "python",
   "name": "python3"
  },
  "language_info": {
   "codemirror_mode": {
    "name": "ipython",
    "version": 3
   },
   "file_extension": ".py",
   "mimetype": "text/x-python",
   "name": "python",
   "nbconvert_exporter": "python",
   "pygments_lexer": "ipython3",
   "version": "3.5.2"
  }
 },
 "nbformat": 4,
 "nbformat_minor": 2
}
